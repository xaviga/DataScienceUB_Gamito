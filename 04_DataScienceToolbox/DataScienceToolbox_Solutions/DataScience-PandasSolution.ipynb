{
 "cells": [
  {
   "cell_type": "markdown",
   "metadata": {},
   "source": [
    "# Merge\n"
   ]
  },
  {
   "cell_type": "markdown",
   "metadata": {},
   "source": [
    "1M MovieLens database (http://www.grouplens.org/node/73) contains 1,000,209 ratings of 3,900 films made during yerar 2000 for 6040 anonymous users from MovieLens recommender Online (http://www.movielens.org)\n"
   ]
  },
  {
   "cell_type": "markdown",
   "metadata": {},
   "source": [
    "The contents of the database are:\n",
    "\n",
    "================================================================================\n",
    "\n",
    "All ratings are contained in the file \"ratings.dat\" and are in the following format:\n",
    "\n",
    "UserID::MovieID::Rating::Timestamp\n",
    "\n",
    "- UserIDs range between 1 and 6040 \n",
    "- MovieIDs range between 1 and 3952\n",
    "- Ratings are made on a 5-star scale (whole-star ratings only)\n",
    "- Timestamp is represented in seconds since the epoch as returned by time(2)\n",
    "- Each user has at least 20 ratings\n",
    "\n",
    "USERS FILE DESCRIPTION\n",
    "\n",
    "================================================================================\n",
    "\n",
    "User information is in the file \"users.dat\" and is in the following format:\n",
    "\n",
    "UserID::Gender::Age::Occupation::Zip-code\n",
    "\n",
    "All demographic information is provided voluntarily by the users and is not checked for accuracy.  Only users who have provided some demographic information are included in this data set.\n",
    "\n",
    "- Gender is denoted by a \"M\" for male and \"F\" for female\n",
    "- Age is chosen from the following ranges:\n",
    "\n",
    "\t*  1:  \"Under 18\"\n",
    "\t* 18:  \"18-24\"\n",
    "\t* 25:  \"25-34\"\n",
    "\t* 35:  \"35-44\"\n",
    "\t* 45:  \"45-49\"\n",
    "\t* 50:  \"50-55\"\n",
    "\t* 56:  \"56+\"\n",
    "\n",
    "- Occupation is chosen from the following choices:\n",
    "\n",
    "\t*  0:  \"other\" or not specified\n",
    "\t*  1:  \"academic/educator\"\n",
    "\t*  2:  \"artist\"\n",
    "\t*  3:  \"clerical/admin\"\n",
    "\t*  4:  \"college/grad student\"\n",
    "\t*  5:  \"customer service\"\n",
    "\t*  6:  \"doctor/health care\"\n",
    "\t*  7:  \"executive/managerial\"\n",
    "\t*  8:  \"farmer\"\n",
    "\t*  9:  \"homemaker\"\n",
    "\t* 10:  \"K-12 student\"\n",
    "\t* 11:  \"lawyer\"\n",
    "\t* 12:  \"programmer\"\n",
    "\t* 13:  \"retired\"\n",
    "\t* 14:  \"sales/marketing\"\n",
    "\t* 15:  \"scientist\"\n",
    "\t* 16:  \"self-employed\"\n",
    "\t* 17:  \"technician/engineer\"\n",
    "\t* 18:  \"tradesman/craftsman\"\n",
    "\t* 19:  \"unemployed\"\n",
    "\t* 20:  \"writer\"\n",
    "\n",
    "MOVIES FILE DESCRIPTION\n",
    "\n",
    "================================================================================\n",
    "\n",
    "Movie information is in the file \"movies.dat\" and is in the following format:\n",
    "\n",
    "MovieID::Title::Genres\n",
    "\n",
    "- Titles are identical to titles provided by the IMDB (including year of release)\n",
    "- Genres are pipe-separated and are selected from the following genres:\n",
    "\n",
    "\t* Action\n",
    "\t* Adventure\n",
    "\t* Animation\n",
    "\t* Children's\n",
    "\t* Comedy\n",
    "\t* Crime\n",
    "\t* Documentary\n",
    "\t* Drama\n",
    "\t* Fantasy\n",
    "\t* Film-Noir\n",
    "\t* Horror\n",
    "\t* Musical\n",
    "\t* Mystery\n",
    "\t* Romance\n",
    "\t* Sci-Fi\n",
    "\t* Thriller\n",
    "\t* War\n",
    "\t* Western\n",
    "\n",
    "- Some MovieIDs do not correspond to a movie due to accidental duplicate entries and/or test entries\n",
    "- Movies are mostly entered by hand, so errors and inconsistencies may exist"
   ]
  },
  {
   "cell_type": "markdown",
   "metadata": {},
   "source": [
    "Download the database and copy it to a local directory on your machine. (./ml-1m/)"
   ]
  },
  {
   "cell_type": "markdown",
   "metadata": {},
   "source": [
    "Load the three files in the database into three `DataFrames`."
   ]
  },
  {
   "cell_type": "code",
   "execution_count": 1,
   "metadata": {
    "collapsed": false
   },
   "outputs": [],
   "source": [
    "import pandas as pd\n",
    "unames = ['user_id', 'gender', 'age', 'occupation', 'zip']\n",
    "users = pd.read_table('./ml-1m/users.dat', sep='::', header=None, names=unames, engine='python')\n",
    "rnames = ['user_id', 'movie_id', 'rating', 'timestamp']\n",
    "ratings = pd.read_table('./ml-1m/ratings.dat', sep='::', header=None, names=rnames,  engine='python')\n",
    "mnames = ['movie_id', 'title', 'genres']\n",
    "movies = pd.read_table('./ml-1m/movies.dat', sep='::', header=None, names=mnames,  engine='python')"
   ]
  },
  {
   "cell_type": "markdown",
   "metadata": {},
   "source": [
    "To work with these data, the first step is to obtain a unique structure containing all the information. To do this we can use the function `merge` of pandas. This function automatically infers which columns should be used for the `merge` based on the names that are intersecting:\n"
   ]
  },
  {
   "cell_type": "code",
   "execution_count": 2,
   "metadata": {
    "collapsed": false
   },
   "outputs": [
    {
     "name": "stdout",
     "output_type": "stream",
     "text": [
      "   user_id  movie_id  rating  timestamp gender  age  occupation    zip  \\\n",
      "0        1      1193       5  978300760      F    1          10  48067   \n",
      "1        2      1193       5  978298413      M   56          16  70072   \n",
      "2       12      1193       4  978220179      M   25          12  32793   \n",
      "3       15      1193       4  978199279      M   25           7  22903   \n",
      "4       17      1193       5  978158471      M   50           1  95350   \n",
      "5       18      1193       4  978156168      F   18           3  95825   \n",
      "6       19      1193       5  982730936      M    1          10  48073   \n",
      "7       24      1193       5  978136709      F   25           7  10023   \n",
      "8       28      1193       3  978125194      F   25           1  14607   \n",
      "9       33      1193       5  978557765      M   45           3  55421   \n",
      "\n",
      "                                    title genres  \n",
      "0  One Flew Over the Cuckoo's Nest (1975)  Drama  \n",
      "1  One Flew Over the Cuckoo's Nest (1975)  Drama  \n",
      "2  One Flew Over the Cuckoo's Nest (1975)  Drama  \n",
      "3  One Flew Over the Cuckoo's Nest (1975)  Drama  \n",
      "4  One Flew Over the Cuckoo's Nest (1975)  Drama  \n",
      "5  One Flew Over the Cuckoo's Nest (1975)  Drama  \n",
      "6  One Flew Over the Cuckoo's Nest (1975)  Drama  \n",
      "7  One Flew Over the Cuckoo's Nest (1975)  Drama  \n",
      "8  One Flew Over the Cuckoo's Nest (1975)  Drama  \n",
      "9  One Flew Over the Cuckoo's Nest (1975)  Drama  \n"
     ]
    }
   ],
   "source": [
    "data = pd.merge(pd.merge(ratings, users), movies)\n",
    "print data[:10]"
   ]
  },
  {
   "cell_type": "markdown",
   "metadata": {},
   "source": [
    "# Exercises: \n",
    "\n",
    "**MovieLens database**"
   ]
  },
  {
   "cell_type": "markdown",
   "metadata": {},
   "source": [
    "1- Filter films that have received at least 250 ratings:"
   ]
  },
  {
   "cell_type": "code",
   "execution_count": 5,
   "metadata": {
    "collapsed": false
   },
   "outputs": [
    {
     "name": "stdout",
     "output_type": "stream",
     "text": [
      "title\n",
      "'burbs, The (1989)                      303\n",
      "10 Things I Hate About You (1999)       700\n",
      "101 Dalmatians (1961)                   565\n",
      "101 Dalmatians (1996)                   364\n",
      "12 Angry Men (1957)                     616\n",
      "13th Warrior, The (1999)                750\n",
      "2 Days in the Valley (1996)             286\n",
      "20,000 Leagues Under the Sea (1954)     575\n",
      "2001: A Space Odyssey (1968)           1716\n",
      "2010 (1984)                             470\n",
      "28 Days (2000)                          505\n",
      "39 Steps, The (1935)                    253\n",
      "54 (1998)                               259\n",
      "7th Voyage of Sinbad, The (1958)        258\n",
      "8MM (1999)                              272\n",
      "...\n",
      "Working Girl (1988)                       514\n",
      "World Is Not Enough, The (1999)           862\n",
      "Wrong Trousers, The (1993)                882\n",
      "Wyatt Earp (1994)                         270\n",
      "X-Files: Fight the Future, The (1998)     996\n",
      "X-Men (2000)                             1511\n",
      "Year of Living Dangerously (1982)         391\n",
      "Yellow Submarine (1968)                   399\n",
      "You've Got Mail (1998)                    838\n",
      "Young Frankenstein (1974)                1193\n",
      "Young Guns (1988)                         562\n",
      "Young Guns II (1990)                      369\n",
      "Young Sherlock Holmes (1985)              379\n",
      "Zero Effect (1998)                        301\n",
      "eXistenZ (1999)                           410\n",
      "Length: 1216, dtype: int64\n"
     ]
    },
    {
     "data": {
      "text/plain": [
       "Index([u''burbs, The (1989)', u'10 Things I Hate About You (1999)', u'101 Dalmatians (1961)', u'101 Dalmatians (1996)', u'12 Angry Men (1957)', u'13th Warrior, The (1999)', u'2 Days in the Valley (1996)', u'20,000 Leagues Under the Sea (1954)', u'2001: A Space Odyssey (1968)', u'2010 (1984)', u'28 Days (2000)', u'39 Steps, The (1935)', u'54 (1998)', u'7th Voyage of Sinbad, The (1958)', u'8MM (1999)', u'About Last Night... (1986)', u'Absent Minded Professor, The (1961)', u'Absolute Power (1997)', u'Abyss, The (1989)', u'Ace Ventura: Pet Detective (1994)', u'Ace Ventura: When Nature Calls (1995)', u'Addams Family Values (1993)', u'Addams Family, The (1991)', u'Adventures in Babysitting (1987)', u'Adventures of Buckaroo Bonzai Across the 8th Dimension, The (1984)', u'Adventures of Priscilla, Queen of the Desert, The (1994)', u'Adventures of Robin Hood, The (1938)', u'African Queen, The (1951)', u'Age of Innocence, The (1993)', u'Agnes of God (1985)', u'Air America (1990)', u'Air Force One (1997)', u'Airplane II: The Sequel (1982)', u'Airplane! (1980)', u'Akira (1988)', u'Aladdin (1992)', u'Alice in Wonderland (1951)', u'Alien (1979)', u'Alien Nation (1988)', u'Alien: Resurrection (1997)', u'Aliens (1986)', u'Alien� (1992)', u'Alive (1993)', u'All About Eve (1950)', u'All About My Mother (Todo Sobre Mi Madre) (1999)', u'All Quiet on the Western Front (1930)', u'All That Jazz (1979)', u'Almost Famous (2000)', u'Amadeus (1984)', u'American Beauty (1999)', u'American Gigolo (1980)', u'American Graffiti (1973)', u'American History X (1998)', u'American Movie (1999)', u'American Pie (1999)', u'American President, The (1995)', u'American Psycho (2000)', u'American Tail, An (1986)', u'American Werewolf in London, An (1981)', u'American Werewolf in Paris, An (1997)', u'American in Paris, An (1951)', u'Amistad (1997)', u'Amityville Horror, The (1979)', u'Anaconda (1997)', u'Analyze This (1999)', u'Anastasia (1997)', u'And Now for Something Completely Different (1971)', u'Angel Heart (1987)', u'Animal House (1978)', u'Anna and the King (1999)', u'Annie Hall (1977)', u'Antz (1998)', u'Any Given Sunday (1999)', u'Apartment, The (1960)', u'Apocalypse Now (1979)', u'Apollo 13 (1995)', u'Apostle, The (1997)', u'Arachnophobia (1990)', u'Aristocats, The (1970)', u'Arlington Road (1999)', u'Armageddon (1998)', u'Army of Darkness (1993)', u'Around the World in 80 Days (1956)', u'Arrival, The (1996)', u'Arsenic and Old Lace (1944)', u'Arthur (1981)', u'As Good As It Gets (1997)', u'Astronaut's Wife, The (1999)', u'Atlantic City (1980)', u'Auntie Mame (1958)', u'Austin Powers: International Man of Mystery (1997)', u'Austin Powers: The Spy Who Shagged Me (1999)', u'Avengers, The (1998)', u'Awakenings (1990)', u'Babe (1995)', u'Babe: Pig in the City (1998)', u'Bachelor Party (1984)', u'Bachelor, The (1999)', u'Back to School (1986)', u'Back to the Future (1985)', ...], dtype='object')"
      ]
     },
     "execution_count": 5,
     "metadata": {},
     "output_type": "execute_result"
    }
   ],
   "source": [
    "ratings_by_title = data.groupby('title').size()\n",
    "print ratings_by_title[ratings_by_title >= 250]\n",
    "\n",
    "active_titles = ratings_by_title.index[ratings_by_title >= 250]\n",
    "active_titles"
   ]
  },
  {
   "cell_type": "markdown",
   "metadata": {},
   "source": [
    "2- Obtain the mean ratings for each movie grouped by gender that have at least 250 ratings. "
   ]
  },
  {
   "cell_type": "code",
   "execution_count": 6,
   "metadata": {
    "collapsed": false
   },
   "outputs": [
    {
     "data": {
      "text/html": [
       "<div style=\"max-height:1000px;max-width:1500px;overflow:auto;\">\n",
       "<table border=\"1\" class=\"dataframe\">\n",
       "  <thead>\n",
       "    <tr style=\"text-align: right;\">\n",
       "      <th>gender</th>\n",
       "      <th>F</th>\n",
       "      <th>M</th>\n",
       "    </tr>\n",
       "    <tr>\n",
       "      <th>title</th>\n",
       "      <th></th>\n",
       "      <th></th>\n",
       "    </tr>\n",
       "  </thead>\n",
       "  <tbody>\n",
       "    <tr>\n",
       "      <th>'burbs, The (1989)</th>\n",
       "      <td> 2.793478</td>\n",
       "      <td> 2.962085</td>\n",
       "    </tr>\n",
       "    <tr>\n",
       "      <th>10 Things I Hate About You (1999)</th>\n",
       "      <td> 3.646552</td>\n",
       "      <td> 3.311966</td>\n",
       "    </tr>\n",
       "    <tr>\n",
       "      <th>101 Dalmatians (1961)</th>\n",
       "      <td> 3.791444</td>\n",
       "      <td> 3.500000</td>\n",
       "    </tr>\n",
       "    <tr>\n",
       "      <th>101 Dalmatians (1996)</th>\n",
       "      <td> 3.240000</td>\n",
       "      <td> 2.911215</td>\n",
       "    </tr>\n",
       "    <tr>\n",
       "      <th>12 Angry Men (1957)</th>\n",
       "      <td> 4.184397</td>\n",
       "      <td> 4.328421</td>\n",
       "    </tr>\n",
       "    <tr>\n",
       "      <th>13th Warrior, The (1999)</th>\n",
       "      <td> 3.112000</td>\n",
       "      <td> 3.168000</td>\n",
       "    </tr>\n",
       "    <tr>\n",
       "      <th>2 Days in the Valley (1996)</th>\n",
       "      <td> 3.488889</td>\n",
       "      <td> 3.244813</td>\n",
       "    </tr>\n",
       "    <tr>\n",
       "      <th>20,000 Leagues Under the Sea (1954)</th>\n",
       "      <td> 3.670103</td>\n",
       "      <td> 3.709205</td>\n",
       "    </tr>\n",
       "    <tr>\n",
       "      <th>2001: A Space Odyssey (1968)</th>\n",
       "      <td> 3.825581</td>\n",
       "      <td> 4.129738</td>\n",
       "    </tr>\n",
       "    <tr>\n",
       "      <th>2010 (1984)</th>\n",
       "      <td> 3.446809</td>\n",
       "      <td> 3.413712</td>\n",
       "    </tr>\n",
       "  </tbody>\n",
       "</table>\n",
       "</div>"
      ],
      "text/plain": [
       "gender                                      F         M\n",
       "title                                                  \n",
       "'burbs, The (1989)                   2.793478  2.962085\n",
       "10 Things I Hate About You (1999)    3.646552  3.311966\n",
       "101 Dalmatians (1961)                3.791444  3.500000\n",
       "101 Dalmatians (1996)                3.240000  2.911215\n",
       "12 Angry Men (1957)                  4.184397  4.328421\n",
       "13th Warrior, The (1999)             3.112000  3.168000\n",
       "2 Days in the Valley (1996)          3.488889  3.244813\n",
       "20,000 Leagues Under the Sea (1954)  3.670103  3.709205\n",
       "2001: A Space Odyssey (1968)         3.825581  4.129738\n",
       "2010 (1984)                          3.446809  3.413712"
      ]
     },
     "execution_count": 6,
     "metadata": {},
     "output_type": "execute_result"
    }
   ],
   "source": [
    "mean_ratings = data.pivot_table('rating', index='title',columns='gender', aggfunc='mean')\n",
    "mean_ratings = mean_ratings.ix[active_titles]\n",
    "mean_ratings[:10]"
   ]
  },
  {
   "cell_type": "markdown",
   "metadata": {},
   "source": [
    "3- Show films more valued by women."
   ]
  },
  {
   "cell_type": "code",
   "execution_count": 7,
   "metadata": {
    "collapsed": false
   },
   "outputs": [
    {
     "data": {
      "text/plain": [
       "title\n",
       "Close Shave, A (1995)                                     4.644444\n",
       "Wrong Trousers, The (1993)                                4.588235\n",
       "Sunset Blvd. (a.k.a. Sunset Boulevard) (1950)             4.572650\n",
       "Wallace & Gromit: The Best of Aardman Animation (1996)    4.563107\n",
       "Schindler's List (1993)                                   4.562602\n",
       "Shawshank Redemption, The (1994)                          4.539075\n",
       "Grand Day Out, A (1992)                                   4.537879\n",
       "To Kill a Mockingbird (1962)                              4.536667\n",
       "Creature Comforts (1990)                                  4.513889\n",
       "Usual Suspects, The (1995)                                4.513317\n",
       "Name: F, dtype: float64"
      ]
     },
     "execution_count": 7,
     "metadata": {},
     "output_type": "execute_result"
    }
   ],
   "source": [
    "top_female_ratings = mean_ratings.sort_index(by='F', ascending=False)\n",
    "top_female_ratings[:10].F"
   ]
  },
  {
   "cell_type": "markdown",
   "metadata": {},
   "source": [
    "4- Now we wonder which movies are rated more differently between men and women. Which films have more different rating and are more highly valued by women? And the films preferred by men which doesn't liked women? What are the films that have generated the most discordant ratings, regardless of gender?"
   ]
  },
  {
   "cell_type": "code",
   "execution_count": 10,
   "metadata": {
    "collapsed": false
   },
   "outputs": [
    {
     "name": "stdout",
     "output_type": "stream",
     "text": [
      "gender                                        F         M      diff\n",
      "title                                                              \n",
      "Dirty Dancing (1987)                   3.790378  2.959596 -0.830782\n",
      "Jumpin' Jack Flash (1986)              3.254717  2.578358 -0.676359\n",
      "Grease (1978)                          3.975265  3.367041 -0.608224\n",
      "Little Women (1994)                    3.870588  3.321739 -0.548849\n",
      "Steel Magnolias (1989)                 3.901734  3.365957 -0.535777\n",
      "Anastasia (1997)                       3.800000  3.281609 -0.518391\n",
      "Rocky Horror Picture Show, The (1975)  3.673016  3.160131 -0.512885\n",
      "Color Purple, The (1985)               4.158192  3.659341 -0.498851\n",
      "Age of Innocence, The (1993)           3.827068  3.339506 -0.487561\n",
      "Free Willy (1993)                      2.921348  2.438776 -0.482573\n",
      "French Kiss (1995)                     3.535714  3.056962 -0.478752\n",
      "Little Shop of Horrors, The (1960)     3.650000  3.179688 -0.470312\n",
      "Guys and Dolls (1955)                  4.051724  3.583333 -0.468391\n",
      "Mary Poppins (1964)                    4.197740  3.730594 -0.467147\n",
      "Patch Adams (1998)                     3.473282  3.008746 -0.464536\n",
      "gender                                         F         M      diff\n",
      "title                                                               \n",
      "Good, The Bad and The Ugly, The (1966)  3.494949  4.221300  0.726351\n",
      "Kentucky Fried Movie, The (1977)        2.878788  3.555147  0.676359\n",
      "Dumb & Dumber (1994)                    2.697987  3.336595  0.638608\n",
      "Longest Day, The (1962)                 3.411765  4.031447  0.619682\n",
      "Cable Guy, The (1996)                   2.250000  2.863787  0.613787\n",
      "Evil Dead II (Dead By Dawn) (1987)      3.297297  3.909283  0.611985\n",
      "Hidden, The (1987)                      3.137931  3.745098  0.607167\n",
      "Rocky III (1982)                        2.361702  2.943503  0.581801\n",
      "Caddyshack (1980)                       3.396135  3.969737  0.573602\n",
      "For a Few Dollars More (1965)           3.409091  3.953795  0.544704\n",
      "Porky's (1981)                          2.296875  2.836364  0.539489\n",
      "Animal House (1978)                     3.628906  4.167192  0.538286\n",
      "Exorcist, The (1973)                    3.537634  4.067239  0.529605\n",
      "Fright Night (1985)                     2.973684  3.500000  0.526316\n",
      "title\n",
      "Dumb & Dumber (1994)                     1.321333\n",
      "Blair Witch Project, The (1999)          1.316368\n",
      "Natural Born Killers (1994)              1.307198\n",
      "Tank Girl (1995)                         1.277695\n",
      "Rocky Horror Picture Show, The (1975)    1.260177\n",
      "Eyes Wide Shut (1999)                    1.259624\n",
      "Evita (1996)                             1.253631\n",
      "Billy Madison (1995)                     1.249970\n",
      "Fear and Loathing in Las Vegas (1998)    1.246408\n",
      "Bicentennial Man (1999)                  1.245533\n",
      "Name: rating, dtype: float64\n"
     ]
    }
   ],
   "source": [
    "mean_ratings['diff'] = mean_ratings['M'] - mean_ratings['F']\n",
    "#Sort by'diff':  films have more different rating and are more highly valued by women\n",
    "sorted_by_diff = mean_ratings.sort_index(by='diff')\n",
    "print sorted_by_diff[:15]\n",
    "\n",
    "#Switching the order we get the films preferred by men which doesn't liked women\n",
    "print sorted_by_diff[:-15:-1]\n",
    "\n",
    "# We can use standard deviation of the ratings to find the films that have generated the most discordant ratings, regardless of gender\n",
    "\n",
    "# Standard deviation of rating grouped by title\n",
    "rating_std_by_title = data.groupby('title')['rating'].std()\n",
    "# Filter down to active_titles\n",
    "rating_std_by_title = rating_std_by_title.ix[active_titles]\n",
    "print rating_std_by_title.order(ascending=False)[:10]\n"
   ]
  },
  {
   "cell_type": "markdown",
   "metadata": {},
   "source": [
    "5- Calculate the average rating of each user. "
   ]
  },
  {
   "cell_type": "code",
   "execution_count": 12,
   "metadata": {
    "collapsed": false
   },
   "outputs": [
    {
     "data": {
      "text/plain": [
       "user_id\n",
       "1          4.188679\n",
       "2          3.713178\n",
       "3          3.901961\n",
       "4          4.190476\n",
       "5          3.146465\n",
       "6          3.901408\n",
       "7          4.322581\n",
       "8          3.884892\n",
       "9          3.735849\n",
       "10         4.114713\n",
       "11         3.277372\n",
       "12         3.826087\n",
       "13         3.388889\n",
       "14         3.320000\n",
       "15         3.323383\n",
       "Name: rating, dtype: float64"
      ]
     },
     "execution_count": 12,
     "metadata": {},
     "output_type": "execute_result"
    }
   ],
   "source": [
    "mean_rating_by_user = data.groupby('user_id')['rating'].mean()\n",
    "mean_rating_by_user[:15]"
   ]
  },
  {
   "cell_type": "markdown",
   "metadata": {},
   "source": [
    "What is the highest rated movie in average?"
   ]
  },
  {
   "cell_type": "code",
   "execution_count": 22,
   "metadata": {
    "collapsed": false
   },
   "outputs": [
    {
     "data": {
      "text/plain": [
       "['Seven Samurai (The Magnificent Seven) (Shichinin no samurai) (1954)']"
      ]
     },
     "execution_count": 22,
     "metadata": {},
     "output_type": "execute_result"
    }
   ],
   "source": [
    "data.groupby('title')['rating'].mean().ix[active_titles].order(ascending=False)[:1].index.tolist()"
   ]
  },
  {
   "cell_type": "markdown",
   "metadata": {},
   "source": [
    "6- Define a function called  <b>top_movies</b> that given a user it returns what movies have the highest rank for this user.\n",
    "\n",
    "def top_movies(user)\n"
   ]
  },
  {
   "cell_type": "code",
   "execution_count": 24,
   "metadata": {
    "collapsed": false
   },
   "outputs": [
    {
     "name": "stdout",
     "output_type": "stream",
     "text": [
      "5\n",
      "0        One Flew Over the Cuckoo's Nest (1975)\n",
      "4201                       Bug's Life, A (1998)\n",
      "8222                             Ben-Hur (1959)\n",
      "8926                  Christmas Story, A (1983)\n",
      "12759               Beauty and the Beast (1991)\n",
      "15859                Sound of Music, The (1965)\n",
      "19503                         Awakenings (1990)\n",
      "23270                 Back to the Future (1985)\n",
      "25853                   Schindler's List (1993)\n",
      "28501                         Pocahontas (1995)\n",
      "37204            Last Days of Disco, The (1998)\n",
      "37339                         Cinderella (1950)\n",
      "40375                          Apollo 13 (1995)\n",
      "41626                          Toy Story (1995)\n",
      "43703                           Rain Man (1988)\n",
      "49748                       Mary Poppins (1964)\n",
      "50759                              Dumbo (1941)\n",
      "52255                Saving Private Ryan (1998)\n",
      "Name: title, dtype: object\n"
     ]
    }
   ],
   "source": [
    "def top_movies(dataFrame,usr):\n",
    "    max_i = dataFrame[dataFrame.user_id == usr].rating.max() \n",
    "    print max_i\n",
    "    return dataFrame[(dataFrame['user_id'] == usr) & (dataFrame['rating'] == max_i )].title\n",
    "\n",
    "print top_movies(data,1)"
   ]
  },
  {
   "cell_type": "markdown",
   "metadata": {},
   "source": [
    "**Data from Excel**"
   ]
  },
  {
   "cell_type": "markdown",
   "metadata": {},
   "source": [
    "7- Read data from excel files: `MunicipisCatalunya.xlsx` and `BBDD_1_OCTUBRE_WEB_SI`. Browse their contents and find the % of catalan municipalities and % of population that supports a ballot for the self-determination of Catalonia at 1st of October. "
   ]
  },
  {
   "cell_type": "code",
   "execution_count": 25,
   "metadata": {
    "collapsed": false
   },
   "outputs": [
    {
     "name": "stdout",
     "output_type": "stream",
     "text": [
      "         MUNICIPI  Habitants  Data ple (dd/mm/aa) Hora (hh:mm)   Comarca  \\\n",
      "0     Aiguamúrcia        914  2014-09-25 00:00:00        20:00  Alt Camp   \n",
      "1         Alcover       5143  2014-09-05 00:00:00          NaN  Alt Camp   \n",
      "2            Alió        386  2014-09-23 00:00:00     20:00:00  Alt Camp   \n",
      "3          Bràfim        680  2014-09-22 00:00:00     20:00:00  Alt Camp   \n",
      "4  Cabra del Camp       1146  2014-09-26 00:00:00     18:30:00  Alt Camp   \n",
      "\n",
      "   Provincia  \n",
      "0  Tarragona  \n",
      "1  Tarragona  \n",
      "2  Tarragona  \n",
      "3  Tarragona  \n",
      "4  Tarragona  \n",
      "% Municipalities: 0.966173361522\n",
      "% Population: 0.89741078245\n"
     ]
    }
   ],
   "source": [
    "### Your Code HERE\n",
    "import pandas as pd\n",
    "munip = pd.read_excel('MunicipisCatalunya.xlsx')\n",
    "munipsi = pd.read_excel('BBDD_1_OCTUBRE_WEB_SI.xlsx')\n",
    "print munipsi.head()\n",
    "munipsi.dropna(subset=['Data ple (dd/mm/aa)'])\n",
    "print \"% Municipalities:\", float(len(munipsi))/len(munip)\n",
    "print \"% Population:\", munipsi['Habitants'].sum()/munip['CENS'].sum() "
   ]
  },
  {
   "cell_type": "code",
   "execution_count": 26,
   "metadata": {
    "collapsed": false
   },
   "outputs": [
    {
     "name": "stdout",
     "output_type": "stream",
     "text": [
      "      MUNICIPI  Habitants  Data ple (dd/mm/aa) Hora (hh:mm)    Comarca  \\\n",
      "412  L'Albagés        462  2014-09-22 00:00:00        15:00  Garrigues   \n",
      "\n",
      "    Provincia  \n",
      "412    Lleida  \n",
      "      CODI ENS  CODI POSTAL NOM CURT   MUNICIPI ZONA MUNTANYA    COMARCA  \\\n",
      "12  2500610007        25155  Albagés  L'Albagés           NaN  Garrigues   \n",
      "\n",
      "   PROVÍNCIA  CENS  SUPERFICIE  ALTURA  \n",
      "12    Lleida   476       26.03     372  \n"
     ]
    }
   ],
   "source": [
    "import numpy as np\n",
    "print munipsi.ix[np.where(munipsi.MUNICIPI==u\"L'Albagés\")]\n",
    "print munip.ix[np.where(munip.MUNICIPI==u\"L'Albagés\")]"
   ]
  },
  {
   "cell_type": "markdown",
   "metadata": {},
   "source": [
    "** Data from CSV**"
   ]
  },
  {
   "cell_type": "markdown",
   "metadata": {},
   "source": [
    "8- Read data from csv file: `ma-ba.csv`. Count the number of times `Barça` wins `Madrid` and compute the stadistics of % win, % lose and % draw."
   ]
  },
  {
   "cell_type": "code",
   "execution_count": 35,
   "metadata": {
    "collapsed": false
   },
   "outputs": [
    {
     "name": "stdout",
     "output_type": "stream",
     "text": [
      "Total matches 260\n",
      "       Local    Visitor GL GV\n",
      "0  R. Madrid  Barcelona  1  3\n",
      "1  Barcelona  R. Madrid  5  2\n",
      "2  Barcelona  R. Madrid  7  0\n",
      "3  Barcelona  R. Madrid  1  0\n",
      "4  R. Madrid  Barcelona  2  2\n",
      "\n",
      "Barcelona win as local: 75\n",
      "Barcelona win as visitor: 32\n",
      "Total Victories Barcelona: 107 ( 41.1538461538 %)\n",
      "Total Draws : 59 ( 22.6923076923 %)\n",
      "Total Lose : 94 ( 36.1538461538 %)\n",
      "\n",
      "R. Madrid win as local: 68\n",
      "R. Madrid win as visitor: 26\n",
      "Total Victories R. Madrid: 94 ( 36.1538461538 %)\n",
      "Total Draws : 59 ( 22.6923076923 %)\n",
      "Total Lose : 107 ( 41.1538461538 %)\n",
      "\n"
     ]
    }
   ],
   "source": [
    "import pandas as pd\n",
    "### Your Code HERE\n",
    "\n",
    "maba = pd.read_csv('ma-ba.csv')\n",
    "maba.columns = ['No','Fecha','Lugar','Partidos','resultado','Competicion']\n",
    "print 'Total matches', len(maba)\n",
    "df = pd.DataFrame()\n",
    "df[\"Local\"]= maba[\"Partidos\"].str.split('-').apply(lambda x: x[0].strip())\n",
    "df[\"Visitor\"]= maba[\"Partidos\"].str.split('-').apply(lambda x: x[1].strip())\n",
    "df[\"GL\"]= maba[\"resultado\"].str.split('-').apply(lambda x: x[0])\n",
    "df[\"GV\"]= maba[\"resultado\"].str.split('-').apply(lambda x: x[1])\n",
    "\n",
    "#Alternative implementation using Series Constructor and concatening DataFrames\n",
    "#df = pd.DataFrame(maba.resultado.str.split('-').apply(pd.Series, 1))\n",
    "#df1 = pd.DataFrame(maba.Partidos.str.split('-').apply(pd.Series, 1))\n",
    "#df =pd.concat([df1,df],axis=1)\n",
    "#df.columns = ['Local','Visitor','GL','GV']\n",
    "#df.Local = df.Local.apply(str.strip)\n",
    "#df.Visitor = df.Visitor.apply(str.strip)\n",
    "\n",
    "\n",
    "#normalize R. Madrid name\n",
    "df[\"Local\"].replace(to_replace=[\"Madrid FC\",\"R.Madrid\"], value = [\"R. Madrid\"]*2, inplace=True)\n",
    "df[\"Visitor\"].replace(to_replace= [\"Madrid FC\",\"R.Madrid\"], value = [\"R. Madrid\"]*2, inplace=True)\n",
    "\n",
    "print df.head()\n",
    "print(\"\")\n",
    "\n",
    "## Lets do statistics for both teams\n",
    "def doStatistics(team,df):\n",
    "    # Count victories as Local:\n",
    "    local=df[df.Local == team]\n",
    "    victoriesLocal = sum(local.GL > local.GV)\n",
    "    drawLocal = sum(local.GL == local.GV)\n",
    "    loseLocal = sum(local.GL < local.GV)\n",
    "    print team+' win as local:', victoriesLocal\n",
    "     # Count victories as Visitor:\n",
    "    visitor=df[df.Visitor == team]\n",
    "    victoriesVisitor = sum(visitor.GV > visitor.GL)\n",
    "    drawVisitor = sum(visitor.GV == visitor.GL)\n",
    "    loseVisitor = sum(visitor.GV < visitor.GL)\n",
    "    print team +' win as visitor:', victoriesVisitor\n",
    "\n",
    "    print 'Total Victories '+ team + ':', victoriesLocal + victoriesVisitor,'(', float((victoriesLocal + victoriesVisitor))/len(maba)*100,'%)'\n",
    "    print 'Total Draws :', drawLocal + drawVisitor,'(', float((drawLocal + drawVisitor))/len(maba)*100,'%)'\n",
    "    print 'Total Lose :', loseLocal + loseVisitor,'(', float((loseLocal + loseVisitor))/len(maba)*100,'%)'\n",
    "    print(\"\")\n",
    "    assert victoriesLocal+victoriesVisitor+drawLocal+drawVisitor+loseLocal+loseVisitor == len(maba)\n",
    "\n",
    "doStatistics(\"Barcelona\",df)\n",
    "doStatistics(\"R. Madrid\",df)\n",
    "\n"
   ]
  },
  {
   "cell_type": "markdown",
   "metadata": {},
   "source": [
    "#Further Reading\n",
    "Pandas has much more functionalities. Check out the (very readable) pandas docs if you want to learn more:\n",
    "\n",
    "http://pandas.pydata.org/pandas-docs/stable/"
   ]
  }
 ],
 "metadata": {
  "kernelspec": {
   "display_name": "Python 2",
   "language": "python",
   "name": "python2"
  },
  "language_info": {
   "codemirror_mode": {
    "name": "ipython",
    "version": 2
   },
   "file_extension": ".py",
   "mimetype": "text/x-python",
   "name": "python",
   "nbconvert_exporter": "python",
   "pygments_lexer": "ipython2",
   "version": "2.7.11"
  }
 },
 "nbformat": 4,
 "nbformat_minor": 0
}
